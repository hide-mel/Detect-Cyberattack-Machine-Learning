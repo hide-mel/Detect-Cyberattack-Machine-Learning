{
 "cells": [
  {
   "cell_type": "code",
   "execution_count": 223,
   "id": "332bb8c8",
   "metadata": {},
   "outputs": [],
   "source": [
    "#import libs\n",
    "\n",
    "import numpy as np\n",
    "import pandas as pd\n",
    "\n",
    "#encoder\n",
    "from sklearn.preprocessing import LabelEncoder, OneHotEncoder\n",
    "\n",
    "#model\n",
    "from sklearn.linear_model import LogisticRegression\n",
    "from sklearn.feature_selection import SelectKBest, f_classif\n",
    "\n",
    "from collections import Counter\n",
    "\n",
    "#score\n",
    "from sklearn.metrics import accuracy_score, f1_score, precision_score, recall_score"
   ]
  },
  {
   "cell_type": "code",
   "execution_count": 224,
   "id": "32dfe46a",
   "metadata": {},
   "outputs": [],
   "source": [
    "#feature sets and types\n",
    "\n",
    "field_names = ['ID','timestamp','duration','protocol','srcIP','srcPort','direction','dstIP','dstPort','state','srcToS','dstToS','totalPackets','bytesBothDir','bytesSrcToDst']\n",
    "dtypes = {'ID':object, 'timestamp':object, 'duration':float, 'protocol':object, 'srcIP':object, 'srcPort':object, 'direction':object, 'dstIP':object, 'dstPort':object, 'state':object, 'srcToS':object, 'dstToS':object, 'totalPackets':int, 'bytesBothDir':int, 'bytesSrcToDst':int}\n",
    "\n",
    "field_names_label = ['ID','timestamp','duration','protocol','srcIP','srcPort','direction','dstIP','dstPort','state','srcToS','dstToS','totalPackets','bytesBothDir','bytesSrcToDst','label']\n",
    "dtypes_label = {'ID':object, 'timestamp':object, 'duration':float, 'protocol':object, 'srcIP':object, 'srcPort':object, 'direction':object, 'dstIP':object, 'dstPort':object, 'state':object, 'srcToS':object, 'dstToS':object, 'totalPackets':int, 'bytesBothDir':int, 'bytesSrcToDst':int, 'label':object}\n",
    "\n",
    "#useless_fields = ['ID','timestamp','label','direction','srcIP','srcPort','dstIP','dstPort']\n",
    "#useless_fields = ['ID','timestamp','label','direction']\n",
    "#useless_fields = ['ID','timestamp','label','direction','protocol','srcToS','dstToS']\n",
    "\n",
    "selected_fields = ['duration','totalPackets','bytesBothDir','bytesSrcToDst','srcPort','state']#\n",
    "#selected_fields = ['duration','totalPackets','bytesBothDir','bytesSrcToDst','srcPort','bytesPerSecSrcToDst','bytesPerSecBoth','packetsPerSec','packetsSize']"
   ]
  },
  {
   "cell_type": "code",
   "execution_count": 225,
   "id": "4244e3da",
   "metadata": {},
   "outputs": [],
   "source": [
    "#read csv files\n",
    "\n",
    "df_train = pd.read_csv (r'training_data_with_label.csv', names = field_names_label, dtype = dtypes_label)\n",
    "df_test = pd.read_csv (r'test_data_with_label.csv', names = field_names_label, dtype = dtypes_label)\n",
    "df_valid = pd.read_csv (r'validation_data_with_label.csv', names = field_names_label, dtype = dtypes_label)\n"
   ]
  },
  {
   "cell_type": "code",
   "execution_count": 226,
   "id": "efaa368c",
   "metadata": {},
   "outputs": [],
   "source": [
    "#strip categorical features\n",
    "\n",
    "df_obj = df_train.select_dtypes(['object'])\n",
    "#print(df_obj)\n",
    "\n",
    "df_train[df_obj.columns] = df_train[df_obj.columns].apply(lambda x: x.str.strip())\n",
    "df_test[df_obj.columns] = df_test[df_obj.columns].apply(lambda x: x.str.strip())\n",
    "df_valid[df_obj.columns] = df_valid[df_obj.columns].apply(lambda x: x.str.strip())\n"
   ]
  },
  {
   "cell_type": "code",
   "execution_count": 227,
   "id": "61ed81e0",
   "metadata": {},
   "outputs": [
    {
     "data": {
      "text/plain": [
       "\"\\ndf_train['state'] = df_train['state'].fillna('None')\\ndf_train['srcToS'] = df_train['state'].fillna('None')\\ndf_train['dstToS'] = df_train['state'].fillna('None')\\n\\ndf_test['state'] = df_test['state'].fillna('None')\\ndf_test['srcToS'] = df_test['srcToS'].fillna('None')\\ndf_test['dstToS'] = df_test['dstToS'].fillna('None')\\n\\ndf_valid['state'] = df_valid['state'].fillna('None')\\ndf_valid['srcToS'] = df_valid['srcToS'].fillna('None')\\ndf_valid['dstToS'] = df_valid['dstToS'].fillna('None')\\n\""
      ]
     },
     "execution_count": 227,
     "metadata": {},
     "output_type": "execute_result"
    }
   ],
   "source": [
    "#replace missing values to string 'None' for the three categorical fields: state, srcToS, dstToS\n",
    "\n",
    "#print(df_train.isna().any())\n",
    "#print(df_test.isna().any())\n",
    "#print(df_valid.isna().any())\n",
    "\n",
    "df_train['state'] = df_train['state'].fillna('None')\n",
    "df_train['srcToS'] = df_train['state'].fillna('None')\n",
    "df_train['dstToS'] = df_train['state'].fillna('None')\n",
    "\n",
    "df_test['state'] = df_test['state'].fillna('None')\n",
    "df_test['srcToS'] = df_test['srcToS'].fillna('None')\n",
    "df_test['dstToS'] = df_test['dstToS'].fillna('None')\n",
    "\n",
    "df_valid['state'] = df_valid['state'].fillna('None')\n",
    "df_valid['srcToS'] = df_valid['srcToS'].fillna('None')\n",
    "df_valid['dstToS'] = df_valid['dstToS'].fillna('None')\n",
    "\n",
    "'''\n",
    "df_train['state'] = df_train['state'].fillna('None')\n",
    "df_train['srcToS'] = df_train['state'].fillna('None')\n",
    "df_train['dstToS'] = df_train['state'].fillna('None')\n",
    "\n",
    "df_test['state'] = df_test['state'].fillna('None')\n",
    "df_test['srcToS'] = df_test['srcToS'].fillna('None')\n",
    "df_test['dstToS'] = df_test['dstToS'].fillna('None')\n",
    "\n",
    "df_valid['state'] = df_valid['state'].fillna('None')\n",
    "df_valid['srcToS'] = df_valid['srcToS'].fillna('None')\n",
    "df_valid['dstToS'] = df_valid['dstToS'].fillna('None')\n",
    "'''\n"
   ]
  },
  {
   "cell_type": "code",
   "execution_count": 228,
   "id": "a35824b0",
   "metadata": {},
   "outputs": [
    {
     "data": {
      "text/plain": [
       "\"\\ndf_train['bytesPerSecSrcToDst'] = (df_train['bytesSrcToDst']/df_train['duration']).replace([np.inf, -np.inf, np.nan], 0)\\ndf_train['bytesPerSecBoth'] = (df_train['totalPackets']/df_train['duration']).replace([np.inf, -np.inf, np.nan], 0)\\ndf_train['packetsPerSec'] = (df_train['totalPackets']/df_train['duration']).replace([np.inf, -np.inf, np.nan], 0)\\ndf_train['packetsSize'] = (df_train['bytesBothDir']/df_train['totalPackets']).replace([np.inf, -np.inf, np.nan], 0)\\n\\ndf_test['bytesPerSecSrcToDst'] = (df_test['bytesSrcToDst']/df_test['duration']).replace([np.inf, -np.inf, np.nan], 0)\\ndf_test['bytesPerSecBoth'] = (df_test['totalPackets']/df_test['duration']).replace([np.inf, -np.inf, np.nan], 0)\\ndf_test['packetsPerSec'] = (df_test['totalPackets']/df_test['duration']).replace([np.inf, -np.inf, np.nan], 0)\\ndf_test['packetsSize'] = (df_test['bytesBothDir']/df_test['totalPackets']).replace([np.inf, -np.inf, np.nan], 0)\\n\\ndf_valid['bytesPerSecSrcToDst'] = (df_valid['bytesSrcToDst']/df_valid['duration']).replace([np.inf, -np.inf, np.nan], 0)\\ndf_valid['bytesPerSecBoth'] = (df_valid['totalPackets']/df_valid['duration']).replace([np.inf, -np.inf, np.nan], 0)\\ndf_valid['packetsPerSec'] = (df_valid['totalPackets']/df_valid['duration']).replace([np.inf, -np.inf, np.nan], 0)\\ndf_valid['packetsSize'] = (df_valid['bytesBothDir']/df_valid['totalPackets']).replace([np.inf, -np.inf, np.nan], 0)\\n\\nis_NaN = df_test.isnull()\\nrow_has_NaN = is_NaN.any(axis=1)\\nrows_with_NaN = df_test[row_has_NaN]\\n\\nprint(rows_with_NaN)\\n\""
      ]
     },
     "execution_count": 228,
     "metadata": {},
     "output_type": "execute_result"
    }
   ],
   "source": [
    "#creating new field for combinations: srcIP/srcPort and dstIP/dstPort\n",
    "'''\n",
    "df_train['srcIP-Port'] = df_train['srcIP'] + '-' + df_train['srcPort']\n",
    "df_train['dstIP-Port'] = df_train['dstIP'] + '-' + df_train['dstPort']\n",
    "\n",
    "df_test['srcIP-Port'] = df_test['srcIP'] + '-' + df_test['srcPort']\n",
    "df_test['dstIP-Port'] = df_test['dstIP'] + '-' + df_test['dstPort']\n",
    "\n",
    "df_valid['srcIP-Port'] = df_valid['srcIP'] + '-' + df_valid['srcPort']\n",
    "df_valid['dstIP-Port'] = df_valid['dstIP'] + '-' + df_valid['dstPort']\n",
    "'''\n",
    "'''\n",
    "df_train['bytesPerSecSrcToDst'] = (df_train['bytesSrcToDst']/df_train['duration']).replace([np.inf, -np.inf, np.nan], 0)\n",
    "df_train['bytesPerSecBoth'] = (df_train['totalPackets']/df_train['duration']).replace([np.inf, -np.inf, np.nan], 0)\n",
    "df_train['packetsPerSec'] = (df_train['totalPackets']/df_train['duration']).replace([np.inf, -np.inf, np.nan], 0)\n",
    "df_train['packetsSize'] = (df_train['bytesBothDir']/df_train['totalPackets']).replace([np.inf, -np.inf, np.nan], 0)\n",
    "\n",
    "df_test['bytesPerSecSrcToDst'] = (df_test['bytesSrcToDst']/df_test['duration']).replace([np.inf, -np.inf, np.nan], 0)\n",
    "df_test['bytesPerSecBoth'] = (df_test['totalPackets']/df_test['duration']).replace([np.inf, -np.inf, np.nan], 0)\n",
    "df_test['packetsPerSec'] = (df_test['totalPackets']/df_test['duration']).replace([np.inf, -np.inf, np.nan], 0)\n",
    "df_test['packetsSize'] = (df_test['bytesBothDir']/df_test['totalPackets']).replace([np.inf, -np.inf, np.nan], 0)\n",
    "\n",
    "df_valid['bytesPerSecSrcToDst'] = (df_valid['bytesSrcToDst']/df_valid['duration']).replace([np.inf, -np.inf, np.nan], 0)\n",
    "df_valid['bytesPerSecBoth'] = (df_valid['totalPackets']/df_valid['duration']).replace([np.inf, -np.inf, np.nan], 0)\n",
    "df_valid['packetsPerSec'] = (df_valid['totalPackets']/df_valid['duration']).replace([np.inf, -np.inf, np.nan], 0)\n",
    "df_valid['packetsSize'] = (df_valid['bytesBothDir']/df_valid['totalPackets']).replace([np.inf, -np.inf, np.nan], 0)\n",
    "\n",
    "is_NaN = df_test.isnull()\n",
    "row_has_NaN = is_NaN.any(axis=1)\n",
    "rows_with_NaN = df_test[row_has_NaN]\n",
    "\n",
    "print(rows_with_NaN)\n",
    "'''"
   ]
  },
  {
   "cell_type": "code",
   "execution_count": 229,
   "id": "107bd01e",
   "metadata": {},
   "outputs": [],
   "source": [
    "#label to 1 or -1, 1 is botnet\n",
    "\n",
    "df_train['label'] = np.where(df_train['label'].str.contains('botnet', case = False), 1, 0)\n",
    "df_test['label'] = np.where(df_test['label'].str.contains('botnet', case = False), 1, 0)\n",
    "df_valid['label'] = np.where(df_valid['label'].str.contains('botnet', case = False), 1, 0)\n"
   ]
  },
  {
   "cell_type": "code",
   "execution_count": 230,
   "id": "101656ae",
   "metadata": {
    "scrolled": true
   },
   "outputs": [
    {
     "data": {
      "text/html": [
       "<div>\n",
       "<style scoped>\n",
       "    .dataframe tbody tr th:only-of-type {\n",
       "        vertical-align: middle;\n",
       "    }\n",
       "\n",
       "    .dataframe tbody tr th {\n",
       "        vertical-align: top;\n",
       "    }\n",
       "\n",
       "    .dataframe thead th {\n",
       "        text-align: right;\n",
       "    }\n",
       "</style>\n",
       "<table border=\"1\" class=\"dataframe\">\n",
       "  <thead>\n",
       "    <tr style=\"text-align: right;\">\n",
       "      <th></th>\n",
       "      <th>ID</th>\n",
       "      <th>timestamp</th>\n",
       "      <th>protocol</th>\n",
       "      <th>srcIP</th>\n",
       "      <th>srcPort</th>\n",
       "      <th>direction</th>\n",
       "      <th>dstIP</th>\n",
       "      <th>dstPort</th>\n",
       "      <th>state</th>\n",
       "      <th>srcToS</th>\n",
       "      <th>dstToS</th>\n",
       "    </tr>\n",
       "  </thead>\n",
       "  <tbody>\n",
       "    <tr>\n",
       "      <th>0</th>\n",
       "      <td>1</td>\n",
       "      <td>2021-08-14 19:39:49.465881</td>\n",
       "      <td>udp</td>\n",
       "      <td>49.199.46.19</td>\n",
       "      <td>6882</td>\n",
       "      <td>&lt;-&gt;</td>\n",
       "      <td>150.35.87.121</td>\n",
       "      <td>6881</td>\n",
       "      <td>CON</td>\n",
       "      <td>CON</td>\n",
       "      <td>CON</td>\n",
       "    </tr>\n",
       "    <tr>\n",
       "      <th>1</th>\n",
       "      <td>2</td>\n",
       "      <td>2021-08-14 20:06:01.809520</td>\n",
       "      <td>udp</td>\n",
       "      <td>191.78.136.101</td>\n",
       "      <td>16199</td>\n",
       "      <td>&lt;-&gt;</td>\n",
       "      <td>150.35.89.128</td>\n",
       "      <td>35248</td>\n",
       "      <td>CON</td>\n",
       "      <td>CON</td>\n",
       "      <td>CON</td>\n",
       "    </tr>\n",
       "    <tr>\n",
       "      <th>2</th>\n",
       "      <td>3</td>\n",
       "      <td>2021-08-14 20:06:01.811109</td>\n",
       "      <td>tcp</td>\n",
       "      <td>122.2.175.95</td>\n",
       "      <td>59066</td>\n",
       "      <td>&lt;?&gt;</td>\n",
       "      <td>150.35.87.17</td>\n",
       "      <td>80</td>\n",
       "      <td>RA_PA</td>\n",
       "      <td>RA_PA</td>\n",
       "      <td>RA_PA</td>\n",
       "    </tr>\n",
       "    <tr>\n",
       "      <th>3</th>\n",
       "      <td>4</td>\n",
       "      <td>2021-08-14 20:06:01.812588</td>\n",
       "      <td>tcp</td>\n",
       "      <td>220.172.180.85</td>\n",
       "      <td>56948</td>\n",
       "      <td>&lt;?&gt;</td>\n",
       "      <td>150.35.88.29</td>\n",
       "      <td>54147</td>\n",
       "      <td>RPA_PA</td>\n",
       "      <td>RPA_PA</td>\n",
       "      <td>RPA_PA</td>\n",
       "    </tr>\n",
       "    <tr>\n",
       "      <th>4</th>\n",
       "      <td>5</td>\n",
       "      <td>2021-08-14 20:06:01.813672</td>\n",
       "      <td>tcp</td>\n",
       "      <td>122.2.175.95</td>\n",
       "      <td>59064</td>\n",
       "      <td>&lt;?&gt;</td>\n",
       "      <td>150.35.87.17</td>\n",
       "      <td>80</td>\n",
       "      <td>RA_PA</td>\n",
       "      <td>RA_PA</td>\n",
       "      <td>RA_PA</td>\n",
       "    </tr>\n",
       "    <tr>\n",
       "      <th>...</th>\n",
       "      <td>...</td>\n",
       "      <td>...</td>\n",
       "      <td>...</td>\n",
       "      <td>...</td>\n",
       "      <td>...</td>\n",
       "      <td>...</td>\n",
       "      <td>...</td>\n",
       "      <td>...</td>\n",
       "      <td>...</td>\n",
       "      <td>...</td>\n",
       "      <td>...</td>\n",
       "    </tr>\n",
       "    <tr>\n",
       "      <th>417481</th>\n",
       "      <td>417482</td>\n",
       "      <td>2021-08-15 01:17:13.747768</td>\n",
       "      <td>tcp</td>\n",
       "      <td>150.35.87.62</td>\n",
       "      <td>51152</td>\n",
       "      <td>-&gt;</td>\n",
       "      <td>215.99.164.241</td>\n",
       "      <td>80</td>\n",
       "      <td>FSPA_FSPA</td>\n",
       "      <td>0.0</td>\n",
       "      <td>0.0</td>\n",
       "    </tr>\n",
       "    <tr>\n",
       "      <th>417482</th>\n",
       "      <td>417483</td>\n",
       "      <td>2021-08-15 01:17:13.759001</td>\n",
       "      <td>udp</td>\n",
       "      <td>150.35.87.62</td>\n",
       "      <td>53151</td>\n",
       "      <td>&lt;-&gt;</td>\n",
       "      <td>150.35.83.12</td>\n",
       "      <td>53</td>\n",
       "      <td>CON</td>\n",
       "      <td>0.0</td>\n",
       "      <td>0.0</td>\n",
       "    </tr>\n",
       "    <tr>\n",
       "      <th>417483</th>\n",
       "      <td>417484</td>\n",
       "      <td>2021-08-15 01:17:13.799008</td>\n",
       "      <td>tcp</td>\n",
       "      <td>150.35.87.62</td>\n",
       "      <td>51152</td>\n",
       "      <td>-&gt;</td>\n",
       "      <td>198.116.235.92</td>\n",
       "      <td>80</td>\n",
       "      <td>FSPA_FSPA</td>\n",
       "      <td>0.0</td>\n",
       "      <td>0.0</td>\n",
       "    </tr>\n",
       "    <tr>\n",
       "      <th>417484</th>\n",
       "      <td>417485</td>\n",
       "      <td>2021-08-15 01:17:13.823686</td>\n",
       "      <td>udp</td>\n",
       "      <td>150.35.87.62</td>\n",
       "      <td>57095</td>\n",
       "      <td>&lt;-&gt;</td>\n",
       "      <td>150.35.83.12</td>\n",
       "      <td>53</td>\n",
       "      <td>CON</td>\n",
       "      <td>0.0</td>\n",
       "      <td>0.0</td>\n",
       "    </tr>\n",
       "    <tr>\n",
       "      <th>417485</th>\n",
       "      <td>417486</td>\n",
       "      <td>2021-08-15 01:17:13.824564</td>\n",
       "      <td>udp</td>\n",
       "      <td>150.35.87.62</td>\n",
       "      <td>54881</td>\n",
       "      <td>&lt;-&gt;</td>\n",
       "      <td>150.35.83.12</td>\n",
       "      <td>53</td>\n",
       "      <td>CON</td>\n",
       "      <td>0.0</td>\n",
       "      <td>0.0</td>\n",
       "    </tr>\n",
       "  </tbody>\n",
       "</table>\n",
       "<p>2087433 rows × 11 columns</p>\n",
       "</div>"
      ],
      "text/plain": [
       "            ID                   timestamp protocol           srcIP srcPort  \\\n",
       "0            1  2021-08-14 19:39:49.465881      udp    49.199.46.19    6882   \n",
       "1            2  2021-08-14 20:06:01.809520      udp  191.78.136.101   16199   \n",
       "2            3  2021-08-14 20:06:01.811109      tcp    122.2.175.95   59066   \n",
       "3            4  2021-08-14 20:06:01.812588      tcp  220.172.180.85   56948   \n",
       "4            5  2021-08-14 20:06:01.813672      tcp    122.2.175.95   59064   \n",
       "...        ...                         ...      ...             ...     ...   \n",
       "417481  417482  2021-08-15 01:17:13.747768      tcp    150.35.87.62   51152   \n",
       "417482  417483  2021-08-15 01:17:13.759001      udp    150.35.87.62   53151   \n",
       "417483  417484  2021-08-15 01:17:13.799008      tcp    150.35.87.62   51152   \n",
       "417484  417485  2021-08-15 01:17:13.823686      udp    150.35.87.62   57095   \n",
       "417485  417486  2021-08-15 01:17:13.824564      udp    150.35.87.62   54881   \n",
       "\n",
       "       direction           dstIP dstPort      state  srcToS  dstToS  \n",
       "0            <->   150.35.87.121    6881        CON     CON     CON  \n",
       "1            <->   150.35.89.128   35248        CON     CON     CON  \n",
       "2            <?>    150.35.87.17      80      RA_PA   RA_PA   RA_PA  \n",
       "3            <?>    150.35.88.29   54147     RPA_PA  RPA_PA  RPA_PA  \n",
       "4            <?>    150.35.87.17      80      RA_PA   RA_PA   RA_PA  \n",
       "...          ...             ...     ...        ...     ...     ...  \n",
       "417481        ->  215.99.164.241      80  FSPA_FSPA     0.0     0.0  \n",
       "417482       <->    150.35.83.12      53        CON     0.0     0.0  \n",
       "417483        ->  198.116.235.92      80  FSPA_FSPA     0.0     0.0  \n",
       "417484       <->    150.35.83.12      53        CON     0.0     0.0  \n",
       "417485       <->    150.35.83.12      53        CON     0.0     0.0  \n",
       "\n",
       "[2087433 rows x 11 columns]"
      ]
     },
     "execution_count": 230,
     "metadata": {},
     "output_type": "execute_result"
    }
   ],
   "source": [
    "#for encoding combine all\n",
    "\n",
    "df_all = pd.concat([df_train, df_test, df_valid]) \n",
    "df_all.select_dtypes(['object'])\n"
   ]
  },
  {
   "cell_type": "code",
   "execution_count": 231,
   "id": "96ca9732",
   "metadata": {},
   "outputs": [
    {
     "data": {
      "text/plain": [
       "\"\\nonehot = OneHotEncoder()\\n\\nonehot.fit(df_all[['protocol','srcToS','dstToS']].to_numpy())\\n\\ntrain_cat_data = onehot.transform(df_train[['protocol','srcToS','dstToS']].to_numpy()).toarray()\\ntest_cat_data = onehot.transform(df_test[['protocol','srcToS','dstToS']].to_numpy()).toarray()\\nvalid_cat_data = onehot.transform(df_valid[['protocol','srcToS','dstToS']].to_numpy()).toarray()\\n\\ndf_train = pd.concat([df_train, pd.DataFrame(data=train_cat_data)], axis=1)\\ndf_test = pd.concat([df_test, pd.DataFrame(data=test_cat_data)], axis=1)\\ndf_valid = pd.concat([df_valid, pd.DataFrame(data=valid_cat_data)], axis=1)\\n\""
      ]
     },
     "execution_count": 231,
     "metadata": {},
     "output_type": "execute_result"
    }
   ],
   "source": [
    "#label encoder for categorical features one hot encoder\n",
    "'''\n",
    "onehot = OneHotEncoder()\n",
    "\n",
    "onehot.fit(df_all[['protocol','srcToS','dstToS']].to_numpy())\n",
    "\n",
    "train_cat_data = onehot.transform(df_train[['protocol','srcToS','dstToS']].to_numpy()).toarray()\n",
    "test_cat_data = onehot.transform(df_test[['protocol','srcToS','dstToS']].to_numpy()).toarray()\n",
    "valid_cat_data = onehot.transform(df_valid[['protocol','srcToS','dstToS']].to_numpy()).toarray()\n",
    "\n",
    "df_train = pd.concat([df_train, pd.DataFrame(data=train_cat_data)], axis=1)\n",
    "df_test = pd.concat([df_test, pd.DataFrame(data=test_cat_data)], axis=1)\n",
    "df_valid = pd.concat([df_valid, pd.DataFrame(data=valid_cat_data)], axis=1)\n",
    "'''\n"
   ]
  },
  {
   "cell_type": "code",
   "execution_count": 232,
   "id": "41543c82",
   "metadata": {},
   "outputs": [],
   "source": [
    "#label encoder for categorical features label encoder\n",
    "\n",
    "protocol_le = LabelEncoder()\n",
    "state_le = LabelEncoder()\n",
    "srcToS_le = LabelEncoder()\n",
    "dstToS_le = LabelEncoder()\n",
    "srcIP_le = LabelEncoder()\n",
    "dstIP_le = LabelEncoder()\n",
    "srcPort_le = LabelEncoder()\n",
    "dstPort_le = LabelEncoder()\n",
    "#srcIPPort_le = LabelEncoder()\n",
    "#dstIPPort_le = LabelEncoder()\n",
    "\n",
    "protocol_le.fit(df_all['protocol'])\n",
    "state_le.fit(df_all['state'])\n",
    "srcToS_le.fit(df_all['srcToS'])\n",
    "dstToS_le.fit(df_all['dstToS'])\n",
    "srcIP_le.fit(df_all['srcIP'])\n",
    "dstIP_le.fit(df_all['dstIP'])\n",
    "srcPort_le.fit(df_all['srcPort'])\n",
    "dstPort_le.fit(df_all['dstPort'])\n",
    "#srcIPPort_le.fit(df_all['srcIP-Port'])\n",
    "#dstIPPort_le.fit(df_all['dstIP-Port'])\n",
    "\n",
    "df_train['protocol'] = protocol_le.transform(df_train['protocol'])\n",
    "df_train['state'] = state_le.transform(df_train['state'])\n",
    "df_train['srcToS'] = srcToS_le.transform(df_train['srcToS'])\n",
    "df_train['dstToS'] = dstToS_le.transform(df_train['dstToS'])\n",
    "df_train['srcIP'] = srcIP_le.transform(df_train['srcIP'])\n",
    "df_train['dstIP'] = dstIP_le.transform(df_train['dstIP'])\n",
    "df_train['srcPort'] = srcPort_le.transform(df_train['srcPort'])\n",
    "df_train['dstPort'] = dstPort_le.transform(df_train['dstPort'])\n",
    "#df_train['srcIP-Port'] = srcIPPort_le.transform(df_train['srcIP-Port'])\n",
    "#df_train['dstIP-Port'] = dstIPPort_le.transform(df_train['dstIP-Port'])\n",
    "\n",
    "df_test['protocol'] = protocol_le.transform(df_test['protocol'])\n",
    "df_test['state'] = state_le.transform(df_test['state'])\n",
    "df_test['srcToS'] = srcToS_le.transform(df_test['srcToS'])\n",
    "df_test['dstToS'] = dstToS_le.transform(df_test['dstToS'])\n",
    "df_test['srcIP'] = srcIP_le.transform(df_test['srcIP'])\n",
    "df_test['dstIP'] = dstIP_le.transform(df_test['dstIP'])\n",
    "df_test['srcPort'] = srcPort_le.transform(df_test['srcPort'])\n",
    "df_test['dstPort'] = dstPort_le.transform(df_test['dstPort'])\n",
    "#df_test['srcIP-Port'] = srcIPPort_le.transform(df_test['srcIP-Port'])\n",
    "#df_test['dstIP-Port'] = dstIPPort_le.transform(df_test['dstIP-Port'])\n",
    "\n",
    "df_valid['protocol'] = protocol_le.transform(df_valid['protocol'])\n",
    "df_valid['state'] = state_le.transform(df_valid['state'])\n",
    "df_valid['srcToS'] = srcToS_le.transform(df_valid['srcToS'])\n",
    "df_valid['dstToS'] = dstToS_le.transform(df_valid['dstToS'])\n",
    "df_valid['srcIP'] = srcIP_le.transform(df_valid['srcIP'])\n",
    "df_valid['dstIP'] = dstIP_le.transform(df_valid['dstIP'])\n",
    "df_valid['srcPort'] = srcPort_le.transform(df_valid['srcPort'])\n",
    "df_valid['dstPort'] = dstPort_le.transform(df_valid['dstPort'])\n",
    "#df_valid['srcIP-Port'] = srcIPPort_le.transform(df_valid['srcIP-Port'])\n",
    "#df_valid['dstIP-Port'] = dstIPPort_le.transform(df_valid['dstIP-Port'])\n"
   ]
  },
  {
   "cell_type": "code",
   "execution_count": 233,
   "id": "da203ccc",
   "metadata": {
    "scrolled": false
   },
   "outputs": [
    {
     "name": "stdout",
     "output_type": "stream",
     "text": [
      "Index(['duration', 'srcPort', 'state'], dtype='object')\n"
     ]
    }
   ],
   "source": [
    "#feature selection kbest\n",
    "\n",
    "kbest_sel = SelectKBest(f_classif, k=3)\n",
    "kbest_sel.fit(df_train[selected_fields], df_train['label'])\n",
    "kbest_cols = df_train[selected_fields].iloc[:,kbest_sel.get_support(indices=True)].columns\n",
    "print(kbest_cols)\n"
   ]
  },
  {
   "cell_type": "code",
   "execution_count": 234,
   "id": "1974e88a",
   "metadata": {},
   "outputs": [
    {
     "data": {
      "text/plain": [
       "Counter({0: 393502, 1: 23981})"
      ]
     },
     "execution_count": 234,
     "metadata": {},
     "output_type": "execute_result"
    }
   ],
   "source": [
    "#prediction using logistic regression\n",
    "\n",
    "clf = LogisticRegression(max_iter=10000)\n",
    "clf.fit(df_train[selected_fields][kbest_cols], df_train['label'])\n",
    "predicted_label = clf.predict(df_test[selected_fields][kbest_cols])\n",
    "predicted_prob = clf.predict_proba(df_test[selected_fields][kbest_cols])\n",
    "\n",
    "#clf.fit(df_train[selected_fields], df_train['label'])\n",
    "#predicted_label = clf.predict(df_test[selected_fields])\n",
    "\n",
    "Counter(predicted_label)"
   ]
  },
  {
   "cell_type": "code",
   "execution_count": 235,
   "id": "6ccd131b",
   "metadata": {
    "scrolled": true
   },
   "outputs": [
    {
     "name": "stdout",
     "output_type": "stream",
     "text": [
      "accuracy : 0.8471458718079539\n",
      "f1 : 0.6166546967059533\n",
      "precision : 0.7425654433622939\n",
      "recall : 0.5943406329047185\n"
     ]
    }
   ],
   "source": [
    "#score \n",
    "\n",
    "accu = accuracy_score(df_test['label'], predicted_label)\n",
    "f1 = f1_score(df_test['label'], predicted_label, average=\"macro\")\n",
    "pre = precision_score(df_test['label'], predicted_label, average=\"macro\")\n",
    "rec = recall_score(df_test['label'], predicted_label, average=\"macro\")\n",
    "\n",
    "print('accuracy : ' + str(accu))\n",
    "print('f1 : ' + str(f1))\n",
    "print('precision : ' + str(pre))\n",
    "print('recall : ' + str(rec))\n"
   ]
  },
  {
   "cell_type": "code",
   "execution_count": 236,
   "id": "dde7c82d",
   "metadata": {
    "scrolled": true
   },
   "outputs": [
    {
     "name": "stdout",
     "output_type": "stream",
     "text": [
      "            ID                   timestamp     duration protocol  \\\n",
      "0            1  2021-08-14 19:44:01.514380  1998.730056      udp   \n",
      "1            2  2021-08-14 19:45:19.524285  1959.888200      udp   \n",
      "2            3  2021-08-14 20:06:01.812305    14.908785      tcp   \n",
      "3            4  2021-08-14 20:06:01.813676     0.001743      tcp   \n",
      "4            5  2021-08-14 20:06:01.816415   196.090732      tcp   \n",
      "...        ...                         ...          ...      ...   \n",
      "417478  417479  2021-08-15 01:17:13.598386     0.000795      udp   \n",
      "417479  417480  2021-08-15 01:17:13.650746     0.000000      udp   \n",
      "417480  417481  2021-08-15 01:17:13.791659     0.054273      udp   \n",
      "417481  417482  2021-08-15 01:17:13.872411     0.000000      udp   \n",
      "417482  417483  2021-08-15 01:17:13.896435     0.000000      tcp   \n",
      "\n",
      "                 srcIP srcPort direction          dstIP dstPort    state  \\\n",
      "0         85.4.198.159    6883       <->  150.35.87.121    6878      CON   \n",
      "1       154.31.224.125    6880       <->  150.35.87.121    6881      CON   \n",
      "2       93.186.104.171      80       <?>   150.35.89.92    1177   FPA_FA   \n",
      "3         92.188.3.136     443       <?>  150.35.89.110   51505  FPA_RPA   \n",
      "4        83.249.203.84   64870       <?>   150.35.90.30      80   RA_FPA   \n",
      "...                ...     ...       ...            ...     ...      ...   \n",
      "417478    98.76.26.150   40962       <->  150.35.87.232   13363      CON   \n",
      "417479    112.190.63.4   15245        ->  150.35.89.168   12112      INT   \n",
      "417480     49.245.55.6   36146       <->  150.35.87.232   13364      CON   \n",
      "417481   90.124.87.145   23141        ->  150.35.89.168   12112      INT   \n",
      "417482   154.79.71.238   10000        ->  150.35.89.168   12113       S_   \n",
      "\n",
      "       srcToS dstToS  totalPackets  bytesBothDir  bytesSrcToDst  label  \\\n",
      "0         0.0    0.0             1           214            106      0   \n",
      "1         0.0    0.0             1           214            107      0   \n",
      "2         0.0    0.0             8          3166           2979      0   \n",
      "3         0.0    0.0             4           600            457      0   \n",
      "4         0.0    0.0          6120       6002745         132809      0   \n",
      "...       ...    ...           ...           ...            ...    ...   \n",
      "417478    0.0    0.0             1           536             73      0   \n",
      "417479    0.0    NaN             0            74             73      0   \n",
      "417480    0.0    0.0             3           373            137      0   \n",
      "417481    0.0    NaN             1            74             73      0   \n",
      "417482    0.0    NaN             1            66             65      0   \n",
      "\n",
      "        predicted_label  predicted_prob  \n",
      "0                     0        0.000020  \n",
      "1                     0        0.000022  \n",
      "2                     0        0.001638  \n",
      "3                     0        0.023585  \n",
      "4                     0        0.002756  \n",
      "...                 ...             ...  \n",
      "417478                0        0.029025  \n",
      "417479                1        0.526618  \n",
      "417480                0        0.049407  \n",
      "417481                0        0.309831  \n",
      "417482                1        0.807762  \n",
      "\n",
      "[417483 rows x 18 columns]\n"
     ]
    }
   ],
   "source": [
    "#data insight\n",
    "\n",
    "df_test_origin = pd.read_csv (r'test_data_with_label.csv', names = field_names_label, dtype = dtypes_label)\n",
    "df_test_origin['label'] = np.where(df_test_origin['label'].str.contains('botnet', case = False), 1, 0)\n",
    "\n",
    "pd_predicted_label = pd.DataFrame(data=np.array(predicted_label), columns=['predicted_label'])\n",
    "pd_predicted_prob = pd.DataFrame(data=np.array(predicted_prob.T[1]).T, columns=['predicted_prob'])\n",
    "\n",
    "df_test = pd.concat([df_test, pd_predicted_label, pd_predicted_prob], axis=1)\n",
    "df_test_predicted_label = pd.concat([df_test_origin,pd_predicted_label, pd_predicted_prob], axis=1)\n",
    "print(df_test_predicted_label)\n"
   ]
  },
  {
   "cell_type": "code",
   "execution_count": 237,
   "id": "b780de92",
   "metadata": {
    "scrolled": true
   },
   "outputs": [
    {
     "name": "stdout",
     "output_type": "stream",
     "text": [
      "0    347702\n",
      "1     69781\n",
      "Name: label, dtype: int64\n",
      "0    393502\n",
      "1     23981\n",
      "Name: predicted_label, dtype: int64\n",
      "150.35.87.196     4250\n",
      "150.35.87.211     4043\n",
      "150.35.87.212     3508\n",
      "150.35.87.208     3173\n",
      "112.188.5.39         3\n",
      "                  ... \n",
      "96.187.241.12        1\n",
      "190.153.88.225       1\n",
      "83.3.54.7            1\n",
      "89.141.100.177       1\n",
      "191.223.96.242       1\n",
      "Name: srcIP, Length: 8323, dtype: int64\n"
     ]
    }
   ],
   "source": [
    "#data insight\n",
    "print(df_test_predicted_label['label'].value_counts())\n",
    "print(df_test_predicted_label['predicted_label'].value_counts())\n",
    "print(df_test_predicted_label[df_test_predicted_label['predicted_label']==1]['srcIP'].value_counts())"
   ]
  },
  {
   "cell_type": "code",
   "execution_count": 238,
   "id": "7966de37",
   "metadata": {
    "scrolled": true
   },
   "outputs": [
    {
     "name": "stdout",
     "output_type": "stream",
     "text": [
      "0    13711\n",
      "1     4250\n",
      "Name: predicted_label, dtype: int64\n",
      "1    17961\n",
      "Name: label, dtype: int64\n"
     ]
    }
   ],
   "source": [
    "# chosen IP 150.35.87.196\n",
    "\n",
    "print(df_test_predicted_label[df_test_predicted_label['srcIP'] == '150.35.87.196']['predicted_label'].value_counts())\n",
    "print(df_test_predicted_label[df_test_predicted_label['srcIP'] == '150.35.87.196']['label'].value_counts())\n"
   ]
  },
  {
   "cell_type": "code",
   "execution_count": 239,
   "id": "a792bb0b",
   "metadata": {},
   "outputs": [
    {
     "data": {
      "text/plain": [
       "67657"
      ]
     },
     "execution_count": 239,
     "metadata": {},
     "output_type": "execute_result"
    }
   ],
   "source": [
    "# check what value associated with 150.35.87.196 \n",
    "\n",
    "dict(zip(srcIP_le.classes_, srcIP_le.transform(srcIP_le.classes_)))['150.35.87.196']"
   ]
  },
  {
   "cell_type": "code",
   "execution_count": 240,
   "id": "84bc596c",
   "metadata": {},
   "outputs": [
    {
     "data": {
      "text/plain": [
       "Counter({1: 4250, 0: 13711})"
      ]
     },
     "execution_count": 240,
     "metadata": {},
     "output_type": "execute_result"
    }
   ],
   "source": [
    "#prediction with only 150.35.87.196 \n",
    "\n",
    "clf = LogisticRegression(max_iter=10000)\n",
    "clf.fit(df_train[selected_fields][kbest_cols], df_train['label'])\n",
    "predicted_label = clf.predict(df_test[df_test['srcIP']==67657][selected_fields][kbest_cols])\n",
    "\n",
    "Counter(predicted_label)\n"
   ]
  },
  {
   "cell_type": "code",
   "execution_count": 243,
   "id": "f75126ff",
   "metadata": {
    "scrolled": true
   },
   "outputs": [
    {
     "name": "stdout",
     "output_type": "stream",
     "text": [
      "[[2.56386170e-04 2.57000000e+02 7.00000000e+00]\n",
      " [1.08181766e-01 2.57000000e+02 7.00000000e+00]\n",
      " [3.63367319e-02 2.79000000e+02 2.09000000e+02]\n",
      " ...\n",
      " [4.81985812e-04 1.92200000e+04 7.00000000e+00]\n",
      " [4.04379163e-04 1.92090000e+04 7.00000000e+00]\n",
      " [0.00000000e+00 1.90550000e+04 2.19000000e+02]]\n",
      "[[8.00256386e-01 2.57800000e+02 6.20000000e+00]\n",
      " [9.08181766e-01 2.57800000e+02 6.20000000e+00]\n",
      " [8.36336732e-01 2.79800000e+02 2.08200000e+02]\n",
      " ...\n",
      " [8.00481986e-01 1.92208000e+04 6.20000000e+00]\n",
      " [8.00404379e-01 1.92098000e+04 6.20000000e+00]\n",
      " [8.00000000e-01 1.90558000e+04 2.18200000e+02]]\n"
     ]
    }
   ],
   "source": [
    "# adversial samples using FGSM\n",
    "def adversial_gen(df,lr,cols,ep):\n",
    "    dlt = np.matrix(df['predicted_prob'].to_numpy()).T - np.matrix(df['label'].to_numpy()).T\n",
    "    direction = np.sign(np.matmul(dlt, lr.coef_))\n",
    "    \n",
    "    return df[cols].to_numpy() + ep * direction\n",
    "\n",
    "newInput = adversial_gen(df_test[df_test['srcIP']==67657],clf,kbest_cols,0.8) \n",
    "#newInput = adversial_gen(df_test,clf,kbest_cols,0.5) \n",
    "\n",
    "print(df_test[df_test['srcIP']==67657][selected_fields][kbest_cols].to_numpy())\n",
    "print(newInput)"
   ]
  },
  {
   "cell_type": "code",
   "execution_count": 244,
   "id": "577726bc",
   "metadata": {},
   "outputs": [
    {
     "data": {
      "text/plain": [
       "Counter({1: 4224, 0: 13737})"
      ]
     },
     "execution_count": 244,
     "metadata": {},
     "output_type": "execute_result"
    }
   ],
   "source": [
    "#use adversial samples for clf with only 150.35.87.196 \n",
    "\n",
    "predicted_label_ad = clf.predict(newInput)\n",
    "\n",
    "Counter(predicted_label_ad)\n"
   ]
  },
  {
   "cell_type": "code",
   "execution_count": null,
   "id": "1561f645",
   "metadata": {},
   "outputs": [],
   "source": []
  },
  {
   "cell_type": "code",
   "execution_count": null,
   "id": "3f33d42b",
   "metadata": {},
   "outputs": [],
   "source": []
  },
  {
   "cell_type": "code",
   "execution_count": null,
   "id": "8be30695",
   "metadata": {},
   "outputs": [],
   "source": []
  }
 ],
 "metadata": {
  "kernelspec": {
   "display_name": "Python 3",
   "language": "python",
   "name": "python3"
  },
  "language_info": {
   "codemirror_mode": {
    "name": "ipython",
    "version": 3
   },
   "file_extension": ".py",
   "mimetype": "text/x-python",
   "name": "python",
   "nbconvert_exporter": "python",
   "pygments_lexer": "ipython3",
   "version": "3.8.8"
  }
 },
 "nbformat": 4,
 "nbformat_minor": 5
}
